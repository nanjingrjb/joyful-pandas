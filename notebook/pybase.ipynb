{
 "cells": [
  {
   "cell_type": "code",
   "execution_count": 30,
   "id": "5225615d",
   "metadata": {},
   "outputs": [],
   "source": [
    "import random as rd\n",
    "import json as js\n",
    "\n",
    "class pinfo():\n",
    "    count=0\n",
    "    def __init__(self,name=\"rjb\",age=42,phone=13776603610):\n",
    "        if name==\"rjb\" and age==42 and phone==13776603610:\n",
    "            self.name=\"person\"+str(pinfo.count)\n",
    "            self.age=rd.randint(20,60)\n",
    "            self.phone=rd.randint(1*10**10,19*10**9)\n",
    "        else:\n",
    "            self.name=name\n",
    "            self.age=age\n",
    "            self.phone=phone\n",
    "        pinfo.count+=1\n",
    "    def info2lst(self):\n",
    "        return [self.name,self.age,self.phone]\n",
    "    def show(self):\n",
    "        print(self.name,self.age,self.phone)\n",
    "        \n",
    "def writeinfo(fname='info.json',len=10):\n",
    "    with open(fname,\"w\") as f:\n",
    "        larr=[]\n",
    "        for i in range(len):\n",
    "            m=pinfo()\n",
    "            larr.append(m.info2lst())\n",
    "        js.dump(larr,f)\n",
    "        \n",
    "def readinfo(fname='info.json'):\n",
    "    with open(fname,\"r\") as f:\n",
    "        myarr=[]\n",
    "        larr=js.load(f)\n",
    "        for (name,age,phone) in larr:\n",
    "            m=pinfo(name,age,phone)\n",
    "            myarr.append(m)\n",
    "        \n",
    "        for p in myarr:\n",
    "            p.show()"
   ]
  },
  {
   "cell_type": "code",
   "execution_count": 31,
   "id": "f4f427c1",
   "metadata": {},
   "outputs": [],
   "source": [
    "writeinfo()\n"
   ]
  },
  {
   "cell_type": "code",
   "execution_count": 32,
   "id": "d386a489",
   "metadata": {},
   "outputs": [
    {
     "name": "stdout",
     "output_type": "stream",
     "text": [
      "[[\"person0\", 47, 13180136854], [\"person1\", 37, 16092206988], [\"person2\", 35, 16136087353], [\"person3\", 25, 12874903968], [\"person4\", 34, 13856166180], [\"person5\", 34, 10160291172], [\"person6\", 21, 13171870646], [\"person7\", 50, 11458408301], [\"person8\", 51, 12377994972], [\"person9\", 37, 13055264316]]"
     ]
    }
   ],
   "source": [
    "cat info.json"
   ]
  },
  {
   "cell_type": "code",
   "execution_count": 33,
   "id": "94dec7c2",
   "metadata": {},
   "outputs": [
    {
     "name": "stdout",
     "output_type": "stream",
     "text": [
      "person0 47 13180136854\n",
      "person1 37 16092206988\n",
      "person2 35 16136087353\n",
      "person3 25 12874903968\n",
      "person4 34 13856166180\n",
      "person5 34 10160291172\n",
      "person6 21 13171870646\n",
      "person7 50 11458408301\n",
      "person8 51 12377994972\n",
      "person9 37 13055264316\n"
     ]
    }
   ],
   "source": [
    "readinfo()"
   ]
  },
  {
   "cell_type": "code",
   "execution_count": 152,
   "id": "27975549",
   "metadata": {},
   "outputs": [
    {
     "name": "stdout",
     "output_type": "stream",
     "text": [
      "1 2 3\n",
      "3 2 1\n"
     ]
    }
   ],
   "source": [
    "\n",
    "a=[1,2,3]\n",
    "b=[3,2,1]\n",
    "c=[a,b]\n",
    "for name,age,pg in c:\n",
    "    print(name,age,pg)"
   ]
  }
 ],
 "metadata": {
  "kernelspec": {
   "display_name": "Python 3 (ipykernel)",
   "language": "python",
   "name": "python3"
  },
  "language_info": {
   "codemirror_mode": {
    "name": "ipython",
    "version": 3
   },
   "file_extension": ".py",
   "mimetype": "text/x-python",
   "name": "python",
   "nbconvert_exporter": "python",
   "pygments_lexer": "ipython3",
   "version": "3.9.7"
  }
 },
 "nbformat": 4,
 "nbformat_minor": 5
}
