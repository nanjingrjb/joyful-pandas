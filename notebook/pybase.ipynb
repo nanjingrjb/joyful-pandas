{
 "cells": [
  {
   "cell_type": "code",
   "execution_count": 42,
   "id": "5225615d",
   "metadata": {},
   "outputs": [],
   "source": [
    "import random as rd\n",
    "import json as js\n",
    "\n",
    "class pinfo():\n",
    "    count=0\n",
    "    def __init__(self,name=\"rjb\",age=42,phone=13776603610):\n",
    "        if name==\"rjb\" and age==42 and phone==13776603610:\n",
    "            self.name=\"person\"+str(pinfo.count)\n",
    "            self.age=rd.randint(20,60)\n",
    "            self.phone=rd.randint(1*10**10,19*10**9)\n",
    "        else:\n",
    "            self.name=name\n",
    "            self.age=age\n",
    "            self.phone=phone\n",
    "        pinfo.count+=1\n",
    "    def info2lst(self):\n",
    "        return [self.name,self.age,self.phone]\n",
    "    def show(self):\n",
    "        print(self.name,self.age,self.phone)\n",
    "        \n",
    "def writeinfo(fname='info.json',len=10):\n",
    "    with open(fname,\"w\") as f:\n",
    "        larr=[]\n",
    "        for i in range(len):\n",
    "            m=pinfo()\n",
    "            larr.append(m.info2lst())\n",
    "        js.dump(larr,f)\n",
    "        \n",
    "def readinfo(fname='info.json'):\n",
    "    with open(fname,\"r\") as f:\n",
    "        myarr=[]\n",
    "        larr=js.load(f)\n",
    "        for (name,age,phone) in larr:\n",
    "            m=pinfo(name,age,phone)\n",
    "            myarr.append(m)\n",
    "        \n",
    "        for p in myarr:\n",
    "            p.show()"
   ]
  },
  {
   "cell_type": "code",
   "execution_count": 43,
   "id": "f4f427c1",
   "metadata": {},
   "outputs": [],
   "source": [
    "writeinfo()\n"
   ]
  },
  {
   "cell_type": "code",
   "execution_count": 44,
   "id": "d386a489",
   "metadata": {},
   "outputs": [
    {
     "name": "stdout",
     "output_type": "stream",
     "text": [
      "[[\"person0\", 30, 13286960308], [\"person1\", 49, 12355566766], [\"person2\", 46, 16685904868], [\"person3\", 60, 12257034894], [\"person4\", 42, 12483078069], [\"person5\", 58, 18133911749], [\"person6\", 41, 14340744458], [\"person7\", 27, 11439531992], [\"person8\", 33, 18470580537], [\"person9\", 44, 13531120033]]"
     ]
    }
   ],
   "source": [
    "cat info.json"
   ]
  },
  {
   "cell_type": "code",
   "execution_count": 45,
   "id": "94dec7c2",
   "metadata": {},
   "outputs": [
    {
     "name": "stdout",
     "output_type": "stream",
     "text": [
      "person0 30 13286960308\n",
      "person1 49 12355566766\n",
      "person2 46 16685904868\n",
      "person3 60 12257034894\n",
      "person4 42 12483078069\n",
      "person5 58 18133911749\n",
      "person6 41 14340744458\n",
      "person7 27 11439531992\n",
      "person8 33 18470580537\n",
      "person9 44 13531120033\n"
     ]
    }
   ],
   "source": [
    "readinfo()"
   ]
  },
  {
   "cell_type": "code",
   "execution_count": 46,
   "id": "27975549",
   "metadata": {},
   "outputs": [
    {
     "name": "stdout",
     "output_type": "stream",
     "text": [
      "1 2 3\n",
      "3 2 1\n"
     ]
    }
   ],
   "source": [
    "\n",
    "a=[1,2,3]\n",
    "b=[3,2,1]\n",
    "c=[a,b]\n",
    "\n",
    "for name,age,pg in c:\n",
    "    print(name,age,pg)"
   ]
  },
  {
   "cell_type": "code",
   "execution_count": 47,
   "id": "89f405c7",
   "metadata": {},
   "outputs": [
    {
     "data": {
      "text/plain": [
       "{'1': 3, '2': 2, '3': 1}"
      ]
     },
     "execution_count": 47,
     "metadata": {},
     "output_type": "execute_result"
    }
   ],
   "source": [
    "#2个数组行程字典\n",
    "def mydict(a,b):\n",
    "    n=dict()\n",
    "    if len(a)==len(b):\n",
    "        for i in range(len(a)):\n",
    "            key=str(a[i])\n",
    "            val=b[i]\n",
    "            n[key]=val \n",
    "    return n\n",
    "\n",
    "mydict(a,b)"
   ]
  },
  {
   "cell_type": "code",
   "execution_count": 48,
   "id": "811c4a11",
   "metadata": {},
   "outputs": [
    {
     "name": "stdout",
     "output_type": "stream",
     "text": [
      "{1: 3, 2: 2, 3: 1}\n"
     ]
    }
   ],
   "source": [
    "def diczip(a,b):\n",
    "    return dict(zip(a,b))\n",
    "print(dict(zip(a,b)))"
   ]
  },
  {
   "cell_type": "code",
   "execution_count": 49,
   "id": "69f0492d",
   "metadata": {},
   "outputs": [
    {
     "name": "stdout",
     "output_type": "stream",
     "text": [
      "Help on built-in function fromkeys:\n",
      "\n",
      "fromkeys(iterable, value=None, /) method of builtins.type instance\n",
      "    Create a new dictionary with keys from iterable and values set to value.\n",
      "\n"
     ]
    }
   ],
   "source": [
    "help(dict.fromkeys)"
   ]
  },
  {
   "cell_type": "code",
   "execution_count": 54,
   "id": "1db3bf0a",
   "metadata": {},
   "outputs": [],
   "source": [
    "#解析列表结构\n",
    "#对于列表的列表才可以打包解析\n",
    "b=[]\n",
    "a=[\"rjb\",20,{\"addr\":\"nj\",\"carrer\":\"eng\"}]\n",
    "b.append(a)\n",
    "b.append(a)\n",
    "attr=['len','arr']\n",
    "lst=[len(b) ,b]\n",
    "c=dict(zip(attr,lst))\n",
    "\n",
    "\n",
    "def write2json(fname=\"info.json\",arr=dict()):\n",
    "    fobj=js.dumps(arr)\n",
    "    with open(fname,'w') as f:\n",
    "        f.write(fobj)\n",
    "        f.close()\n",
    "    \n",
    "\n",
    "def readfromjson(fname=\"info.json\"):\n",
    "    with open(fname,\"r\") as f:\n",
    "        arr=js.load(f)\n",
    "\n",
    "def parsarr(c):\n",
    "    leng=c['len']\n",
    "    binfo=c['arr']\n",
    "    for name,age,info in binfo:\n",
    "        print(name,age,info)"
   ]
  },
  {
   "cell_type": "code",
   "execution_count": 52,
   "id": "780d9d2c",
   "metadata": {},
   "outputs": [
    {
     "name": "stdout",
     "output_type": "stream",
     "text": [
      "{1: 2, 2: 4} {'len': 2, 'arr': [['rjb', 20, {'addr': 'nj', 'carrer': 'eng'}], ['rjb', 20, {'addr': 'nj', 'carrer': 'eng'}]]}\n"
     ]
    }
   ],
   "source": [
    "l={1:2,2:4}\n",
    "sl=str(l)\n",
    "print(sl,str(c))"
   ]
  },
  {
   "cell_type": "code",
   "execution_count": 8,
   "id": "efb2ce68",
   "metadata": {},
   "outputs": [
    {
     "name": "stdout",
     "output_type": "stream",
     "text": [
      "1\t\n",
      "1\t\n",
      "2\t\n",
      "3\t\n",
      "5\t\n",
      "8\t\n"
     ]
    }
   ],
   "source": [
    "#递归算法计算斐波那契数列\n",
    "def fac(n):\n",
    "    if n==1 or n==2:\n",
    "        return 1\n",
    "    else:\n",
    "        return fac(n-1)+fac(n-2)\n",
    "    \n",
    "def printfac(n):\n",
    "    for i in range(1,n+1):\n",
    "        print(f'{fac(i)}\\t')\n",
    "              \n",
    "printfac(6)"
   ]
  },
  {
   "cell_type": "code",
   "execution_count": 12,
   "id": "67755789",
   "metadata": {},
   "outputs": [
    {
     "name": "stdout",
     "output_type": "stream",
     "text": [
      "(1, 2, 3, [12, 13]) (2, 3, 4) 524695097808 524494170112\n",
      "(1, 2, 3, [12, 13], 2, 3, 4) 524695111904\n"
     ]
    }
   ],
   "source": [
    "'''不可直接修改元组内部值，但可以创建新的同名元组，可以\n",
    "查看id(var)来确定是否为相同变量'''\n",
    "def testtuple():\n",
    "    a=(1,2,3,[12,13])\n",
    "    b=(2,3,4)\n",
    "    print(a,b,id(a),id(b))\n",
    "    a=a+b\n",
    "    print(a,id(a))\n",
    "    a[3][0]=11\n",
    "    \n",
    "\n",
    "if __name__=='__main__':\n",
    "    testtuple()"
   ]
  }
 ],
 "metadata": {
  "kernelspec": {
   "display_name": "Python 3 (ipykernel)",
   "language": "python",
   "name": "python3"
  },
  "language_info": {
   "codemirror_mode": {
    "name": "ipython",
    "version": 3
   },
   "file_extension": ".py",
   "mimetype": "text/x-python",
   "name": "python",
   "nbconvert_exporter": "python",
   "pygments_lexer": "ipython3",
   "version": "3.9.7"
  }
 },
 "nbformat": 4,
 "nbformat_minor": 5
}
