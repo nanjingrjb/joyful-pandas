{
 "cells": [
  {
   "cell_type": "code",
   "execution_count": 174,
   "id": "f4f427c1",
   "metadata": {},
   "outputs": [],
   "source": [
    "writeinfo()\n"
   ]
  },
  {
   "cell_type": "code",
   "execution_count": 175,
   "id": "d386a489",
   "metadata": {},
   "outputs": [
    {
     "name": "stdout",
     "output_type": "stream",
     "text": [
      "[[\"person0\", 33, 15844956138], [\"person1\", 34, 11223455535], [\"person2\", 55, 16249893224], [\"person3\", 58, 18915905231], [\"person4\", 58, 13888693096], [\"person5\", 40, 17540633221], [\"person6\", 34, 14907274518], [\"person7\", 39, 16344762066], [\"person8\", 54, 15654755723], [\"person9\", 20, 15735915876]]"
     ]
    }
   ],
   "source": [
    "cat info.json"
   ]
  },
  {
   "cell_type": "code",
   "execution_count": 176,
   "id": "94dec7c2",
   "metadata": {},
   "outputs": [
    {
     "name": "stdout",
     "output_type": "stream",
     "text": [
      "person0 33 15844956138\n",
      "person1 34 11223455535\n",
      "person2 55 16249893224\n",
      "person3 58 18915905231\n",
      "person4 58 13888693096\n",
      "person5 40 17540633221\n",
      "person6 34 14907274518\n",
      "person7 39 16344762066\n",
      "person8 54 15654755723\n",
      "person9 20 15735915876\n"
     ]
    }
   ],
   "source": [
    "readinfo()"
   ]
  },
  {
   "cell_type": "code",
   "execution_count": 159,
   "id": "63857588",
   "metadata": {},
   "outputs": [
    {
     "name": "stdout",
     "output_type": "stream",
     "text": [
      "person0 22 10865862727 16\n",
      "person1 50 15101843299 17\n",
      "person0 22 10865862727 17\n",
      "person1 50 15101843299 17\n"
     ]
    }
   ],
   "source": [
    "with open(\"info.json\",\"r\") as f:\n",
    "    #stra=f.readlines()\n",
    "    userall=js.load(f)\n",
    "    parr=[]\n",
    "    for (name,age,phone) in userall:\n",
    "        m=pinfo(name,age,phone)\n",
    "        m.show()\n",
    "        parr.append(m)\n",
    "        \n",
    "    for i in parr:\n",
    "        i.show()\n",
    "        \n",
    "\n",
    "\n",
    "    "
   ]
  },
  {
   "cell_type": "code",
   "execution_count": 152,
   "id": "27975549",
   "metadata": {},
   "outputs": [
    {
     "name": "stdout",
     "output_type": "stream",
     "text": [
      "1 2 3\n",
      "3 2 1\n"
     ]
    }
   ],
   "source": [
    "\n",
    "a=[1,2,3]\n",
    "b=[3,2,1]\n",
    "c=[a,b]\n",
    "for name,age,pg in c:\n",
    "    print(name,age,pg)"
   ]
  }
 ],
 "metadata": {
  "kernelspec": {
   "display_name": "Python 3 (ipykernel)",
   "language": "python",
   "name": "python3"
  },
  "language_info": {
   "codemirror_mode": {
    "name": "ipython",
    "version": 3
   },
   "file_extension": ".py",
   "mimetype": "text/x-python",
   "name": "python",
   "nbconvert_exporter": "python",
   "pygments_lexer": "ipython3",
   "version": "3.9.7"
  }
 },
 "nbformat": 4,
 "nbformat_minor": 5
}
