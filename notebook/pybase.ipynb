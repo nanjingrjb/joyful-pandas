{
 "cells": [
  {
   "cell_type": "code",
   "execution_count": 39,
   "id": "8f591712",
   "metadata": {},
   "outputs": [
    {
     "name": "stdout",
     "output_type": "stream",
     "text": [
      "随机生成信息.\n",
      "person0 33 16588438250 0\n",
      "随机生成信息.\n",
      "person1 45 15236186522 1\n",
      "随机生成信息.\n",
      "person2 60 11733180692 2\n",
      "随机生成信息.\n",
      "person3 34 12786289989 3\n",
      "随机生成信息.\n",
      "person4 51 12254068916 4\n",
      "随机生成信息.\n",
      "person5 49 10067060628 5\n",
      "随机生成信息.\n",
      "person6 37 17353134177 6\n",
      "随机生成信息.\n",
      "person7 24 12166676464 7\n",
      "随机生成信息.\n",
      "person8 32 13350414733 8\n"
     ]
    }
   ],
   "source": [
    "#随机数生成与json模块的引入\n",
    "import json as js\n",
    "import random as rd\n",
    "\n",
    "#定义一个人员档案类\n",
    "class pinfo():\n",
    "    _count=0\n",
    "    def __init__(self,name=\"rjb\",age=40,phone=13776603610):\n",
    "        if name==\"rjb\" and  age==40 and  phone==13776603610:\n",
    "            print(\"随机生成信息.\")\n",
    "            self.name=\"person\"+str(pinfo._count)\n",
    "            self.age=rd.randint(20,60)\n",
    "            self.phone=rd.randint(1*10**10,1*10**10+9*10**9)\n",
    "        else:\n",
    "            self.name=name\n",
    "            self.age=age\n",
    "            self.phone=phone\n",
    "        pinfo._count=pinfo._count+1\n",
    "            \n",
    "    def show(self):\n",
    "        print(self.name,self.age,self.phone,pinfo._count-1)\n",
    "\n",
    "\n",
    "for i in range(0,9):\n",
    "    m=pinfo()\n",
    "    m.show()\n",
    "\n",
    "            \n",
    "        \n",
    "        "
   ]
  },
  {
   "cell_type": "code",
   "execution_count": null,
   "id": "b83dc2b2",
   "metadata": {},
   "outputs": [],
   "source": []
  }
 ],
 "metadata": {
  "kernelspec": {
   "display_name": "Python 3 (ipykernel)",
   "language": "python",
   "name": "python3"
  },
  "language_info": {
   "codemirror_mode": {
    "name": "ipython",
    "version": 3
   },
   "file_extension": ".py",
   "mimetype": "text/x-python",
   "name": "python",
   "nbconvert_exporter": "python",
   "pygments_lexer": "ipython3",
   "version": "3.9.7"
  }
 },
 "nbformat": 4,
 "nbformat_minor": 5
}
